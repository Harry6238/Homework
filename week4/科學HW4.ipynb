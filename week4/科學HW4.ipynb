{
  "nbformat": 4,
  "nbformat_minor": 0,
  "metadata": {
    "colab": {
      "provenance": []
    },
    "kernelspec": {
      "name": "python3",
      "display_name": "Python 3"
    },
    "language_info": {
      "name": "python"
    }
  },
  "cells": [
    {
      "cell_type": "code",
      "source": [
        "import math\n",
        "\n",
        "# -----------------------------\n",
        "# Adaptive Simpson’s rule\n",
        "# -----------------------------\n",
        "def simpson(f, a, b):\n",
        "    m = (a + b) / 2\n",
        "    return (b - a) / 6 * (f(a) + 4 * f(m) + f(b))\n",
        "\n",
        "def adaptive_simpson(f, a, b, eps=1e-10, max_depth=20):\n",
        "    def recurse(a, b, eps, S, fa, fb, fm, depth):\n",
        "        m = (a + b) / 2\n",
        "        lm, rm = (a + m) / 2, (m + b) / 2\n",
        "        flm, frm = f(lm), f(rm)\n",
        "\n",
        "        Sleft = (m - a) / 6 * (fa + 4 * flm + fm)\n",
        "        Sright = (b - m) / 6 * (fm + 4 * frm + fb)\n",
        "        diff = Sleft + Sright - S\n",
        "\n",
        "        if depth <= 0 or abs(diff) <= 15 * eps:\n",
        "            return Sleft + Sright + diff / 15\n",
        "        return (recurse(a, m, eps/2, Sleft, fa, fm, flm, depth-1) +\n",
        "                recurse(m, b, eps/2, Sright, fm, fb, frm, depth-1))\n",
        "\n",
        "    fa, fb, fm = f(a), f(b), f((a+b)/2)\n",
        "    return recurse(a, b, eps, simpson(f, a, b), fa, fb, fm, max_depth)\n",
        "\n",
        "# -----------------------------\n",
        "# Integral 1: ∫0^∞ 1/(1+25x^2) dx\n",
        "# Use substitution x = t / (1-t), t ∈ [0,1)\n",
        "# -----------------------------\n",
        "def f1(t):\n",
        "    if t == 1.0:  # limit t → 1\n",
        "        return 1/25\n",
        "    x = t / (1 - t)\n",
        "    return 1 / (1 + 25 * x * x) / (1 - t)**2\n",
        "\n",
        "I1_num = adaptive_simpson(f1, 0, 1, eps=1e-11)\n",
        "I1_exact = math.pi / 10\n",
        "\n",
        "# -----------------------------\n",
        "# Integral 2: ∫0^1 ln(x)/(1+25x^2) dx\n",
        "# Use substitution x = t^2\n",
        "# -----------------------------\n",
        "def f2(t):\n",
        "    if t == 0.0:  # limit t → 0\n",
        "        return 0\n",
        "    return 4 * t * math.log(t) / (1 + 25 * t**4)\n",
        "\n",
        "I2_num = adaptive_simpson(f2, 0, 1, eps=1e-11)\n",
        "\n",
        "# -----------------------------\n",
        "# Results\n",
        "# -----------------------------\n",
        "print(\"Integral I1 (numeric) =\", I1_num)\n",
        "print(\"Integral I1 (exact)   =\", I1_exact)\n",
        "print(\"Absolute error I1     =\", abs(I1_num - I1_exact))\n",
        "print()\n",
        "print(\"Integral I2 (numeric) =\", I2_num)\n"
      ],
      "metadata": {
        "colab": {
          "base_uri": "https://localhost:8080/"
        },
        "id": "YQdsU3sXTEC3",
        "outputId": "e3918660-b975-4744-9234-db4b84633736"
      },
      "execution_count": 7,
      "outputs": [
        {
          "output_type": "stream",
          "name": "stdout",
          "text": [
            "Integral I1 (numeric) = 0.314159265358979\n",
            "Integral I1 (exact)   = 0.3141592653589793\n",
            "Absolute error I1     = 3.3306690738754696e-16\n",
            "\n",
            "Integral I2 (numeric) = -0.5454445634197835\n"
          ]
        }
      ]
    },
    {
      "cell_type": "code",
      "source": [],
      "metadata": {
        "id": "zXs9yt6BTEl4"
      },
      "execution_count": null,
      "outputs": []
    }
  ]
}